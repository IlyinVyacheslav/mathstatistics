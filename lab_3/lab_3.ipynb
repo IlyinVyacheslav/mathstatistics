{
 "cells": [
  {
   "cell_type": "markdown",
   "source": [
    "#### Номер 1 Вариант 3"
   ],
   "metadata": {
    "collapsed": false
   },
   "id": "bb461d1b49e88da1"
  },
  {
   "cell_type": "markdown",
   "source": [
    "по теореме Фишера:\n",
    "$\\frac{(n-1) S^2}{\\sigma^2} \\sim \\chi_{n-1}^2$\n",
    "несмещенная дисперсия:\n",
    "$S^2=\\frac{\\operatorname{Var} X \\cdot n}{n-1}$\n",
    "тогда:\n",
    "$\\frac{\\operatorname{Var} X}{\\sigma_1^2} \\sim \\chi_{n-1}^2 \\frac{\\operatorname{Var} Y}{\\sigma_2^2} \\sim \\chi_{m-1}^2$\n",
    "\n",
    "распределение Фишера:\n",
    "$\\frac{\\operatorname{Var} Y \\cdot m \\cdot \\sigma_1^2 \\cdot(n-1)}{\\sigma_2^2 \\cdot \\operatorname{Var} X \\cdot n \\cdot(m-1)} \\sim F(m-1, n-1)$\n",
    "\n",
    "пусть:\n",
    "$F = \\frac{\\operatorname{Var}(Y) \\cdot m \\cdot \\sigma_1^2 \\cdot (n-1)}{\\sigma_2^2 \\cdot \\operatorname{Var}(X) \\cdot n \\cdot (m-1)}$\n",
    "\n",
    "тогда границы доверительного интервала:\n",
    "$P \\left(q_{\\frac{\\alpha}{2}} \\leqslant F \\cdot \\tau \\leqslant q_{1-\\frac{\\alpha}{2}}\\right) = 1-\\alpha$\n",
    "\n",
    "или если преобразовать:\n",
    "$P\\left(\\frac{q_{\\frac{\\alpha}{2}}}{F} \\leqslant \\tau \\leqslant \\frac{q_{1-\\frac{\\alpha}{2}}}{F}\\right) = 1-\\alpha$"
   ],
   "metadata": {
    "collapsed": false
   },
   "id": "95d8d483f23b35bb"
  },
  {
   "cell_type": "markdown",
   "source": [
    "|#### Imports"
   ],
   "metadata": {
    "collapsed": false
   },
   "id": "3ca0c34134561bd0"
  },
  {
   "cell_type": "code",
   "outputs": [],
   "source": [
    "import numpy as np\n",
    "import math\n",
    "from scipy.stats import f\n",
    "from scipy.stats import norm"
   ],
   "metadata": {
    "collapsed": false,
    "ExecuteTime": {
     "end_time": "2024-11-23T11:03:54.259372200Z",
     "start_time": "2024-11-23T11:03:52.311800300Z"
    }
   },
   "id": "ddeacae7b30d82de",
   "execution_count": 6
  },
  {
   "cell_type": "code",
   "outputs": [],
   "source": [
    "def count_F(n: int, m: int):\n",
    "    X = np.random.normal(loc=mu_1, scale=math.sqrt(sigma_1_2), size=n)\n",
    "    Y = np.random.normal(loc=mu_2, scale=math.sqrt(sigma_2_2), size=m)\n",
    "    VarX = np.var(X)\n",
    "    VarY = np.var(Y)\n",
    "\n",
    "    F = (VarY * m * (n - 1)) / (VarX * n * (m - 1))\n",
    "\n",
    "    return F"
   ],
   "metadata": {
    "collapsed": false,
    "ExecuteTime": {
     "end_time": "2024-11-23T11:03:54.271859700Z",
     "start_time": "2024-11-23T11:03:54.265844800Z"
    }
   },
   "id": "d66b50b19e341011",
   "execution_count": 7
  },
  {
   "cell_type": "code",
   "outputs": [],
   "source": [
    "def confidence_interval(alpha, n, m):\n",
    "    f_stat = count_F(n, m)\n",
    "    lower_q = f.ppf(alpha / 2, m - 1, n - 1)\n",
    "    upper_q = f.ppf(1 - alpha / 2, m - 1, n - 1)\n",
    "\n",
    "    lower_bound = lower_q / f_stat\n",
    "    upper_bound = upper_q / f_stat\n",
    "\n",
    "    return lower_bound, upper_bound"
   ],
   "metadata": {
    "collapsed": false,
    "ExecuteTime": {
     "end_time": "2024-11-23T11:03:54.282732600Z",
     "start_time": "2024-11-23T11:03:54.276133800Z"
    }
   },
   "id": "ecd73f2c6d559835",
   "execution_count": 8
  },
  {
   "cell_type": "markdown",
   "source": [
    "##### Входные параметры"
   ],
   "metadata": {
    "collapsed": false
   },
   "id": "a715b442bc5d367f"
  },
  {
   "cell_type": "code",
   "outputs": [],
   "source": [
    "volume_size = [25, 10000]\n",
    "mu_1, mu_2 = 0, 0\n",
    "sigma_1_2, sigma_2_2 = 2, 1\n",
    "alpha = 0.05\n",
    "num_solutions = 1000\n",
    "true_ratio = 2"
   ],
   "metadata": {
    "collapsed": false,
    "ExecuteTime": {
     "end_time": "2024-11-23T11:03:54.307393800Z",
     "start_time": "2024-11-23T11:03:54.287344100Z"
    }
   },
   "id": "86070e7581c0c64d",
   "execution_count": 9
  },
  {
   "cell_type": "code",
   "outputs": [],
   "source": [
    "def experiment(volume):\n",
    "    intervals = []\n",
    "    coverage_count = 0\n",
    "    for _ in range(num_solutions):\n",
    "        interval = confidence_interval(alpha, volume, volume)\n",
    "        lower, upper = interval\n",
    "        intervals.append(interval)\n",
    "        if lower <= true_ratio <= upper:\n",
    "            coverage_count += 1    \n",
    "    return coverage_count"
   ],
   "metadata": {
    "collapsed": false,
    "ExecuteTime": {
     "end_time": "2024-11-23T11:03:54.308392200Z",
     "start_time": "2024-11-23T11:03:54.297964600Z"
    }
   },
   "id": "e71fda176977e4e",
   "execution_count": 10
  },
  {
   "cell_type": "code",
   "outputs": [
    {
     "name": "stdout",
     "output_type": "stream",
     "text": [
      "Estimated coverage probability that the 95% confidence interval covers the true ratio: 0.953 for volume: 25\n",
      "Estimated coverage probability that the 95% confidence interval covers the true ratio: 0.95 for volume: 10000\n"
     ]
    }
   ],
   "source": [
    "for volume in [25, 10000]:\n",
    "    coverage_count = experiment(volume)\n",
    "    coverage_probability = coverage_count / num_solutions\n",
    "    print(f\"Estimated coverage probability that the 95% confidence interval covers the true ratio: {coverage_probability} for volume: {volume}\")"
   ],
   "metadata": {
    "collapsed": false,
    "ExecuteTime": {
     "end_time": "2024-11-23T11:03:56.496586Z",
     "start_time": "2024-11-23T11:03:54.307393800Z"
    }
   },
   "id": "c86f3586f081d8b1",
   "execution_count": 11
  },
  {
   "cell_type": "markdown",
   "source": [
    "#### Номер 2 Вариант 2"
   ],
   "metadata": {
    "collapsed": false
   },
   "id": "536f9f133d919c70"
  },
  {
   "cell_type": "markdown",
   "source": [
    "$\\alpha=1     \\mu=2$\n",
    "\n",
    "Распределение Лапласа:\n",
    "$f(x)=\\frac{1}{2} e^{-|x-\\mu|}$\n",
    "По теореме об асимптотическом поведении среднего члена вариационного ряда:\n",
    "$\\sqrt n \\cdot \\frac{x_{\\text {med }}-q_{\\frac{1}{2}}}{1 / 2} f\\left(q_{\\frac{1}{2}}\\right) \\sim N(0,1)$\n",
    "\n",
    "тогда\n",
    "\n",
    "$P \\left(q_{\\frac{\\alpha}{2}} \\leqslant \\sqrt n \\cdot \\frac{x_{\\text {med }}-q_{\\frac{1}{2}}}{1 / 2} f\\left(q_{\\frac{1}{2}}\\right) \\leqslant q_{1-\\frac{\\alpha}{2}}\\right) = 1-\\alpha$\n",
    "\n",
    "заметим что\n",
    "\n",
    "$f\\left(q_{\\frac{1}{2}}\\right) = \\frac{1}{2} \\cdot e^{-|q_{\\frac{1}{2}} - \\mu|} = \\frac{1}{2} \\text{тк медиана равна \\mu}$\n",
    "\n",
    "подставляя\n",
    "\n",
    "$P \\left(q_{\\frac{\\alpha}{2}} \n",
    "\\leqslant \n",
    "\\sqrt n \\cdot \\left(x_{\\text {med }}-q_{\\frac{1}{2}}\\right) \n",
    "\\leqslant \n",
    "q_{1-\\frac{\\alpha}{2}}\\right) = 1-\\alpha$\n",
    "\n",
    "тогда\n",
    "\n",
    "$P \\left(\\frac{q_{\\frac{\\alpha}{2}}}{\\sqrt n} - x_{\\text {med }} \n",
    "\\leqslant \n",
    "-q_{\\frac{1}{2}} \n",
    "\\leqslant \n",
    "\\frac{q_{1-\\frac{\\alpha}{2}}}{\\sqrt n} - x_{\\text {med }}\\right) = 1-\\alpha$\n",
    "\n",
    "и\n",
    "\n",
    "$P \\left(x_{\\text {med }} - \\frac{q_{1-\\frac{\\alpha}{2}}}{\\sqrt n}\n",
    "\\leqslant \n",
    "q_{\\frac{1}{2}} \n",
    "\\leqslant \n",
    "x_{\\text {med }} - \\frac{q_{\\frac{\\alpha}{2}}}{\\sqrt n}\\right) = 1-\\alpha$"
   ],
   "metadata": {
    "collapsed": false
   },
   "id": "d03c0cfa35887a37"
  },
  {
   "cell_type": "code",
   "outputs": [],
   "source": [
    "def confidence_interval_2(alpha, n, mu):\n",
    "    X = np.random.laplace(size=n, loc=mu)\n",
    "    X_med = np.median(X)\n",
    "    lower_bound = X_med - norm.ppf(1 - alpha / 2) / math.sqrt(n)\n",
    "    upper_bound = X_med - norm.ppf(alpha / 2) / math.sqrt(n)\n",
    "\n",
    "    return lower_bound <= mu <= upper_bound"
   ],
   "metadata": {
    "collapsed": false,
    "ExecuteTime": {
     "end_time": "2024-11-23T11:03:56.498240Z",
     "start_time": "2024-11-23T11:03:56.493494400Z"
    }
   },
   "id": "62d1cd2a934f3f8f",
   "execution_count": 12
  },
  {
   "cell_type": "code",
   "outputs": [],
   "source": [
    "def experiment_2(volume):\n",
    "    coverage_count = 0\n",
    "    for _ in range(1000):\n",
    "        if confidence_interval_2(alpha, volume, 2):\n",
    "            coverage_count += 1    \n",
    "    return coverage_count"
   ],
   "metadata": {
    "collapsed": false,
    "ExecuteTime": {
     "end_time": "2024-11-23T11:03:56.509688Z",
     "start_time": "2024-11-23T11:03:56.500264800Z"
    }
   },
   "id": "8e48473b0949448f",
   "execution_count": 13
  },
  {
   "cell_type": "code",
   "outputs": [
    {
     "name": "stdout",
     "output_type": "stream",
     "text": [
      "Estimated coverage probability that the 95% confidence interval covers the true ratio: 0.906 for volume: 25\n",
      "Estimated coverage probability that the 95% confidence interval covers the true ratio: 0.949 for volume: 10000\n"
     ]
    }
   ],
   "source": [
    "for volume in [25, 10000]:\n",
    "    coverage_count = experiment_2(volume)\n",
    "    coverage_probability = coverage_count / num_solutions\n",
    "    print(f\"Estimated coverage probability that the 95% confidence interval covers the true ratio: {coverage_probability} for volume: {volume}\")"
   ],
   "metadata": {
    "collapsed": false,
    "ExecuteTime": {
     "end_time": "2024-11-23T11:03:57.874942900Z",
     "start_time": "2024-11-23T11:03:56.508691600Z"
    }
   },
   "id": "5f42b1283b60f8da",
   "execution_count": 14
  }
 ],
 "metadata": {
  "kernelspec": {
   "display_name": "Python 3",
   "language": "python",
   "name": "python3"
  },
  "language_info": {
   "codemirror_mode": {
    "name": "ipython",
    "version": 2
   },
   "file_extension": ".py",
   "mimetype": "text/x-python",
   "name": "python",
   "nbconvert_exporter": "python",
   "pygments_lexer": "ipython2",
   "version": "2.7.6"
  }
 },
 "nbformat": 4,
 "nbformat_minor": 5
}
